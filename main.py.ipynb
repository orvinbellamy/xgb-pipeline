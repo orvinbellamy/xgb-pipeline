{
 "cells": [
  {
   "attachments": {},
   "cell_type": "markdown",
   "metadata": {},
   "source": [
    "### Import libraries"
   ]
  },
  {
   "cell_type": "code",
   "execution_count": null,
   "metadata": {},
   "outputs": [],
   "source": [
    "## Import libraries\n",
    "\n",
    "import os\n",
    "import pandas as pd\n",
    "from datetime import date, datetime\n",
    "import numpy as np\n",
    "import pickle\n",
    "import matplotlib.pyplot as plt\n",
    "from scipy.stats import chi2, uniform, randint\n",
    "import sys\n",
    "import seaborn as sns\n",
    "import joblib\n",
    "import logging as log\n",
    "import json\n",
    "\n",
    "## scikit-learn\n",
    "from sklearn.model_selection import train_test_split\n",
    "from sklearn.metrics import roc_curve\n",
    "\n",
    "## xgboost\n",
    "import xgboost as xgb\n",
    "\n",
    "### Custom functions (local)\n",
    "\n",
    "from ml_functions.ml_builder import TrainTestSplit, XGBParam, eda_plot, sqrt_neg, create_default_transformer, create_xgb_model, xgb_random_optimize, xgb_random_feature_selection\n",
    "from ml_functions.data_exploration import plot_kmeans_inertia, KMeansHandler, rfe_numeric_feature_selection\n",
    "\n",
    "from ml_functions.ml_evaluation import cutoff_table, convert_date, var_parser, plot_roc_and_precision_recall, confusion_matrix_report, backward_elimination_model, plot_model_coef, get_null_columns, impute, create_histogram, create_boxplot, eda_plot, eda_plot_all"
   ]
  },
  {
   "attachments": {},
   "cell_type": "markdown",
   "metadata": {},
   "source": [
    "### Set up connections and variables"
   ]
  },
  {
   "cell_type": "code",
   "execution_count": null,
   "metadata": {},
   "outputs": [],
   "source": [
    "# configure logging\n",
    "log.basicConfig(level=log.INFO)\n",
    "\n",
    "RANDOM_SEED = 123"
   ]
  },
  {
   "cell_type": "markdown",
   "metadata": {},
   "source": [
    "### Get data and configuration\n",
    "\n",
    "Note that the configuration file will be loaded again later. The configs here are just for data processing, not model-building"
   ]
  },
  {
   "cell_type": "code",
   "execution_count": null,
   "metadata": {},
   "outputs": [],
   "source": [
    "### Get data here\n",
    "# Data used to create this script can't be shared publicly\n",
    "# TODO: Find a new sample data which can be shown\n",
    "\n",
    "df = pd.read_csv('sample_data.csv')\n",
    "df_cluster = pd.read_csv('cluster_data.csv')"
   ]
  },
  {
   "cell_type": "markdown",
   "metadata": {},
   "source": [
    "Graph an elbow graph to determine the appropriate number of clusters/segments.\n",
    "\n",
    "This isn't really used anymore"
   ]
  },
  {
   "cell_type": "code",
   "execution_count": null,
   "metadata": {},
   "outputs": [],
   "source": [
    "## Sample data not available right now\n",
    "# TODO: Find a new sample data which can be shown\n",
    "\n",
    "col_cluster = []\n",
    "\n",
    "df_plot_inertia = df_cluster[col_cluster]\n",
    "\n",
    "plot_kmeans_inertia(df_cluster=df_plot_inertia, n_cluster=10, random_seed=RANDOM_SEED)"
   ]
  },
  {
   "cell_type": "markdown",
   "metadata": {},
   "source": [
    "Create a new cluster. For using an existing cluster, see cell below"
   ]
  },
  {
   "cell_type": "code",
   "execution_count": null,
   "metadata": {},
   "outputs": [
    {
     "name": "stderr",
     "output_type": "stream",
     "text": [
      "c:\\Users\\Orvin.Bellamy\\AppData\\Local\\Programs\\Python\\Python39\\lib\\site-packages\\sklearn\\cluster\\_kmeans.py:870: FutureWarning: The default value of `n_init` will change from 10 to 'auto' in 1.4. Set the value of `n_init` explicitly to suppress the warning\n",
      "  warnings.warn(\n"
     ]
    },
    {
     "data": {
      "text/html": [
       "<div>\n",
       "<style scoped>\n",
       "    .dataframe tbody tr th:only-of-type {\n",
       "        vertical-align: middle;\n",
       "    }\n",
       "\n",
       "    .dataframe tbody tr th {\n",
       "        vertical-align: top;\n",
       "    }\n",
       "\n",
       "    .dataframe thead th {\n",
       "        text-align: right;\n",
       "    }\n",
       "</style>\n",
       "<table border=\"1\" class=\"dataframe\">\n",
       "  <thead>\n",
       "    <tr style=\"text-align: right;\">\n",
       "      <th></th>\n",
       "      <th>campaigns_usage_perc</th>\n",
       "      <th>kwe_usage_perc</th>\n",
       "      <th>lex_usage_perc</th>\n",
       "      <th>restool_usage_perc</th>\n",
       "      <th>domain_usage_perc</th>\n",
       "      <th>compres_usage_perc</th>\n",
       "    </tr>\n",
       "  </thead>\n",
       "  <tbody>\n",
       "    <tr>\n",
       "      <th>0</th>\n",
       "      <td>0.0021</td>\n",
       "      <td>0.0029</td>\n",
       "      <td>0.0024</td>\n",
       "      <td>0.0191</td>\n",
       "      <td>0.0020</td>\n",
       "      <td>0.0028</td>\n",
       "    </tr>\n",
       "    <tr>\n",
       "      <th>1</th>\n",
       "      <td>0.4778</td>\n",
       "      <td>0.3607</td>\n",
       "      <td>0.0777</td>\n",
       "      <td>0.0659</td>\n",
       "      <td>0.0053</td>\n",
       "      <td>0.0126</td>\n",
       "    </tr>\n",
       "    <tr>\n",
       "      <th>2</th>\n",
       "      <td>0.8366</td>\n",
       "      <td>0.0800</td>\n",
       "      <td>0.0392</td>\n",
       "      <td>0.0363</td>\n",
       "      <td>0.0033</td>\n",
       "      <td>0.0045</td>\n",
       "    </tr>\n",
       "    <tr>\n",
       "      <th>3</th>\n",
       "      <td>0.0958</td>\n",
       "      <td>0.1272</td>\n",
       "      <td>0.7232</td>\n",
       "      <td>0.0415</td>\n",
       "      <td>0.0071</td>\n",
       "      <td>0.0052</td>\n",
       "    </tr>\n",
       "    <tr>\n",
       "      <th>4</th>\n",
       "      <td>0.1196</td>\n",
       "      <td>0.7633</td>\n",
       "      <td>0.0630</td>\n",
       "      <td>0.0427</td>\n",
       "      <td>0.0036</td>\n",
       "      <td>0.0079</td>\n",
       "    </tr>\n",
       "  </tbody>\n",
       "</table>\n",
       "</div>"
      ],
      "text/plain": [
       "   campaigns_usage_perc  kwe_usage_perc  ...  domain_usage_perc  compres_usage_perc\n",
       "0                0.0021          0.0029  ...             0.0020              0.0028\n",
       "1                0.4778          0.3607  ...             0.0053              0.0126\n",
       "2                0.8366          0.0800  ...             0.0033              0.0045\n",
       "3                0.0958          0.1272  ...             0.0071              0.0052\n",
       "4                0.1196          0.7633  ...             0.0036              0.0079\n",
       "\n",
       "[5 rows x 6 columns]"
      ]
     },
     "execution_count": 56,
     "metadata": {},
     "output_type": "execute_result"
    }
   ],
   "source": [
    "## Create a new cluster\n",
    "\n",
    "kmeans = KMeansHandler()\n",
    "\n",
    "kmeans.create_kmeans_cluster(df=df_plot_inertia, n_clusters=5, random_seed=RANDOM_SEED)\n",
    "\n",
    "cluster_names = {\n",
    "    0: 'col_1',\n",
    "    1: 'col_2',\n",
    "    2: 'col_3',\n",
    "    3: 'col_4',\n",
    "    4: 'col_5'\n",
    "    }\n",
    "\n",
    "kmeans.define_cluster(cluster_names)\n",
    "\n",
    "# Apply labels\n",
    "df_cluster = kmeans.apply_cluster(df_cluster)\n",
    "\n",
    "# merge with df and df_current\n",
    "df = pd.merge(df, df_cluster[['subscription_id', 'segment']], on='subscription_id', how='left')\n",
    "\n",
    "# Display the clusters\n",
    "kmeans.df_cluster_centers"
   ]
  },
  {
   "cell_type": "markdown",
   "metadata": {},
   "source": [
    "Use an existing cluster for the training and live (current) data"
   ]
  },
  {
   "cell_type": "code",
   "execution_count": null,
   "metadata": {},
   "outputs": [],
   "source": [
    "## User an existing cluster\n",
    "\n",
    "# Load the cluster object from local directory\n",
    "kmeans = joblib.load('models/sample_cluster.pkl')\n",
    "\n",
    "df_cluster = kmeans.apply_cluster(df_cluster)\n",
    "\n",
    "df = pd.merge(df, df_cluster[['subscription_id', 'segment']], on='subscription_id', how='left')"
   ]
  },
  {
   "cell_type": "code",
   "execution_count": null,
   "metadata": {},
   "outputs": [],
   "source": [
    "## Sample data not available right now\n",
    "# TODO: Find a new sample data which can be shown\n",
    "COL_ANNUAL_USAGE_CATEGORICAL = []\n",
    "\n",
    "# Change non-numerical data to categorical\n",
    "# I think we can technically leave them as string/object data type but I like categorical better\n",
    "for col in COL_ANNUAL_USAGE_CATEGORICAL:\n",
    "    df[col] = pd.Categorical(df[col])"
   ]
  },
  {
   "cell_type": "markdown",
   "metadata": {},
   "source": [
    "### RFE Feature Selection\n",
    "\n",
    "This is a brute force way to shortlist numerical columns that can be a good feature to predict churn.\n",
    "\n",
    "Note the algorithm assesses the columns in a vacuum, so they may not work well with other features together in a column.\n",
    "\n",
    "I've stopped using this as it is not that helpful, but good enough to get a sense of which columns have potential. Also doesn't work with categorical columns."
   ]
  },
  {
   "cell_type": "code",
   "execution_count": null,
   "metadata": {},
   "outputs": [],
   "source": [
    "## Feature Selection RFE for numeric variables\n",
    "\n",
    "## Sample data not available right now\n",
    "# TODO: Find a new sample data which can be shown\n",
    "COL_NOT_NUMERIC = []\n",
    "COL_RFE_DROP = []\n",
    "\n",
    "# Set number of columns to return\n",
    "# i.e. the top 15 columns\n",
    "num_feature_selection_numeric = 15\n",
    "\n",
    "# Filter out non-numerical columns\n",
    "x_numeric = df.drop(COL_NOT_NUMERIC, axis=1)\n",
    "x_numeric = x_numeric.drop(COL_RFE_DROP, axis=1)\n",
    "\n",
    "# Set the label\n",
    "Y_NUMERIC = df['label']\n",
    "\n",
    "col_best_features = rfe_numeric_feature_selection()"
   ]
  },
  {
   "cell_type": "markdown",
   "metadata": {},
   "source": [
    "### Building Models"
   ]
  },
  {
   "cell_type": "markdown",
   "metadata": {},
   "source": [
    "Load configurations and variables. All of these are from JSON files.\n",
    "\n",
    "So any tuning can be done via the JSON files instead of doing it in the script."
   ]
  },
  {
   "cell_type": "code",
   "execution_count": null,
   "metadata": {},
   "outputs": [],
   "source": [
    "# with open('config/columns.json', 'r') as f:\n",
    "#     col_annual_usage = json.load(f)\n",
    "\n",
    "## Sample data not available right now\n",
    "# TODO: Find a new sample data which can be shown\n",
    "COL_FIXED_FEATURES = []\n",
    "COL_FEATURES = []\n",
    "COL_NUMERIC_FEATURES_FILTERED = []\n",
    "LABEL = 'label'\n",
    "TEST_SIZE = 0.2\n",
    "\n",
    "RANDOM_SEED = 123\n",
    "ZERO_OFFSET = 0.1\n",
    "\n",
    "with open('config/model_config.json', 'r') as f:\n",
    "    model_config = json.load(f)\n",
    "\n",
    "xgb_param = model_config['xgb']"
   ]
  },
  {
   "cell_type": "markdown",
   "metadata": {},
   "source": [
    "Create a XGB model with the predefined parameters. The code to save the model as a .pkl file is somewhere below."
   ]
  },
  {
   "cell_type": "code",
   "execution_count": null,
   "metadata": {},
   "outputs": [
    {
     "name": "stderr",
     "output_type": "stream",
     "text": [
      "c:\\Users\\Orvin.Bellamy\\AppData\\Local\\Programs\\Python\\Python39\\lib\\site-packages\\sklearn\\preprocessing\\_encoders.py:868: FutureWarning: `sparse` was renamed to `sparse_output` in version 1.2 and will be removed in 1.4. `sparse_output` is ignored unless you leave `sparse` to its default value.\n",
      "  warnings.warn(\n"
     ]
    },
    {
     "name": "stdout",
     "output_type": "stream",
     "text": [
      "rf test score:  0.7736738703339883\n"
     ]
    }
   ],
   "source": [
    "## Create a XGB model with predefined parameters\n",
    "xgb_model, df_test = create_xgb_model(\n",
    "    df=df,\n",
    "    col_features=COL_FEATURES,\n",
    "    col_label=LABEL,\n",
    "    test_size=TEST_SIZE, \n",
    "    model_param=xgb_param\n",
    ")"
   ]
  },
  {
   "cell_type": "markdown",
   "metadata": {},
   "source": [
    "Brute force feature selection.\n",
    "\n",
    "We fix the model parameters, but we randomized the features used. This is a brute force way of finding the best combination of features to user.\n",
    "\n",
    "Normally we do this first and then the hyperparameter optimization below."
   ]
  },
  {
   "cell_type": "code",
   "execution_count": null,
   "metadata": {},
   "outputs": [],
   "source": [
    "num_iter = 10  # Number of iterations\n",
    "\n",
    "df_feature_selection = xgb_random_feature_selection(\n",
    "    df=df, \n",
    "    trial_features=COL_NUMERIC_FEATURES_FILTERED,\n",
    "    fixed_features=COL_FIXED_FEATURES,\n",
    "    num_test_features=14,\n",
    "    label=LABEL,\n",
    "    model_param=xgb_param,\n",
    "    random_seed=RANDOM_SEED,\n",
    "    n_iter=num_iter\n",
    ")\n",
    "\n",
    "df_feature_selection"
   ]
  },
  {
   "cell_type": "code",
   "execution_count": null,
   "metadata": {},
   "outputs": [],
   "source": [
    "# Sort based on test score\n",
    "df_feature_selection.sort_values(by='test_score', ascending=False)\n",
    "best_index = df_feature_selection.sort_values(by='test_score', ascending=False).iloc[0, 0]\n",
    "\n",
    "# Show the best features to use\n",
    "df_feature_selection.loc[df_feature_selection['iter']==best_index, 'numeric_features'].to_list()"
   ]
  },
  {
   "cell_type": "markdown",
   "metadata": {},
   "source": [
    "Do hyperparameter optimization. Do this when you already know which features you want to use and want to optimize the parameters\n",
    "\n",
    "Note that it can take a while. 100 iterations is about 20 minutes."
   ]
  },
  {
   "cell_type": "code",
   "execution_count": null,
   "metadata": {},
   "outputs": [],
   "source": [
    "# set parameters\n",
    "xgb_param = {\n",
    "    'xgb__learning_rate': uniform(loc=0.01, scale=0.19),\n",
    "    'xgb__n_estimators': randint(100, 1000),\n",
    "    'xgb__subsample': uniform(loc=0.7, scale=0.3),\n",
    "    'xgb__colsample_bytree': uniform(loc=0.7, scale=0.3),\n",
    "    'xgb__gamma': uniform(loc=0, scale=0.2),\n",
    "    'xgb__min_child_weight': randint(1, 10)\n",
    "}\n",
    "\n",
    "N_ITER_OPT = 100\n",
    "CV = 3\n",
    "\n",
    "# xgb_model is the optimized model\n",
    "# xgb_param_optimized contains all the optimized parameters\n",
    "# xgb_random_result lists all the iteration results\n",
    "# df_test is for evaluation\n",
    "xgb_model, xgb_random_result, xgb_param_optimized, df_test = xgb_random_optimize(\n",
    "    df=df,\n",
    "    col_train=COL_FEATURES,\n",
    "    col_label=LABEL,\n",
    "    param=xgb_param,\n",
    "    test_size=TEST_SIZE,\n",
    "    random_seed=RANDOM_SEED,\n",
    "    cv=CV,\n",
    "    n_iter=N_ITER_OPT\n",
    ")"
   ]
  },
  {
   "cell_type": "markdown",
   "metadata": {},
   "source": [
    "Save the model as a .pkl file for future use"
   ]
  },
  {
   "cell_type": "code",
   "execution_count": null,
   "metadata": {},
   "outputs": [],
   "source": [
    "with open('models/xgb_model.pkl', 'wb') as file:\n",
    "    pickle.dump(xgb_model, file)"
   ]
  },
  {
   "cell_type": "markdown",
   "metadata": {},
   "source": [
    "### Model Testing & Evaluation"
   ]
  },
  {
   "cell_type": "markdown",
   "metadata": {},
   "source": [
    "Load existing models stored as .pkl files. You can directly evaluate old models without needing to recreate them again."
   ]
  },
  {
   "cell_type": "code",
   "execution_count": null,
   "metadata": {},
   "outputs": [],
   "source": [
    "xgb_model = joblib.load('models/xgb_model.pkl')\n",
    "kmeans = joblib.load('models/sample_cluster.pkl')\n",
    "\n",
    "df_train, df_test = train_test_split(df[COL_FEATURES+[LABEL]], test_size=TEST_SIZE, random_state=RANDOM_SEED)\n",
    "\n",
    "X_train = df_train.drop(columns=LABEL)\n",
    "y_train = df_train[LABEL]\n",
    "X_test = df_test.drop(columns=LABEL)\n",
    "y_test = df_test[LABEL]"
   ]
  },
  {
   "cell_type": "markdown",
   "metadata": {},
   "source": [
    "Feature importance: list all features and how significant they play a role in the XGB model. The higher the better.\n",
    "\n",
    "You can replace less significant feature with other features to fine-tune the model."
   ]
  },
  {
   "cell_type": "code",
   "execution_count": 10,
   "metadata": {},
   "outputs": [
    {
     "data": {
      "text/html": [
       "<div>\n",
       "<style scoped>\n",
       "    .dataframe tbody tr th:only-of-type {\n",
       "        vertical-align: middle;\n",
       "    }\n",
       "\n",
       "    .dataframe tbody tr th {\n",
       "        vertical-align: top;\n",
       "    }\n",
       "\n",
       "    .dataframe thead th {\n",
       "        text-align: right;\n",
       "    }\n",
       "</style>\n",
       "<table border=\"1\" class=\"dataframe\">\n",
       "  <thead>\n",
       "    <tr style=\"text-align: right;\">\n",
       "      <th></th>\n",
       "      <th>Feature</th>\n",
       "      <th>Importance</th>\n",
       "    </tr>\n",
       "  </thead>\n",
       "  <tbody>\n",
       "    <tr>\n",
       "      <th>0</th>\n",
       "      <td>numeric__num_users</td>\n",
       "      <td>0.101759</td>\n",
       "    </tr>\n",
       "    <tr>\n",
       "      <th>1</th>\n",
       "      <td>numeric__kwe_10_12_perc</td>\n",
       "      <td>0.046560</td>\n",
       "    </tr>\n",
       "    <tr>\n",
       "      <th>2</th>\n",
       "      <td>numeric__base_mrr</td>\n",
       "      <td>0.039707</td>\n",
       "    </tr>\n",
       "    <tr>\n",
       "      <th>3</th>\n",
       "      <td>numeric__domain_12_6_delta_perc</td>\n",
       "      <td>0.046731</td>\n",
       "    </tr>\n",
       "    <tr>\n",
       "      <th>4</th>\n",
       "      <td>numeric__usage_4_6_perc</td>\n",
       "      <td>0.048658</td>\n",
       "    </tr>\n",
       "    <tr>\n",
       "      <th>5</th>\n",
       "      <td>numeric__total_addons_mrr_perc</td>\n",
       "      <td>0.050964</td>\n",
       "    </tr>\n",
       "    <tr>\n",
       "      <th>6</th>\n",
       "      <td>numeric__lex_7_9_perc</td>\n",
       "      <td>0.045576</td>\n",
       "    </tr>\n",
       "    <tr>\n",
       "      <th>7</th>\n",
       "      <td>numeric__campaigns_10_12_perc</td>\n",
       "      <td>0.046359</td>\n",
       "    </tr>\n",
       "    <tr>\n",
       "      <th>8</th>\n",
       "      <td>numeric__campaigns_quota85_12</td>\n",
       "      <td>0.045628</td>\n",
       "    </tr>\n",
       "    <tr>\n",
       "      <th>9</th>\n",
       "      <td>numeric__num_tickets_12</td>\n",
       "      <td>0.047990</td>\n",
       "    </tr>\n",
       "    <tr>\n",
       "      <th>10</th>\n",
       "      <td>numeric__usage_12_6_delta_perc</td>\n",
       "      <td>0.049856</td>\n",
       "    </tr>\n",
       "    <tr>\n",
       "      <th>11</th>\n",
       "      <td>numeric__restool_10_12_perc</td>\n",
       "      <td>0.049455</td>\n",
       "    </tr>\n",
       "    <tr>\n",
       "      <th>12</th>\n",
       "      <td>numeric__kwe_4_6_perc</td>\n",
       "      <td>0.051904</td>\n",
       "    </tr>\n",
       "    <tr>\n",
       "      <th>13</th>\n",
       "      <td>numeric__domain_4_6_perc</td>\n",
       "      <td>0.056042</td>\n",
       "    </tr>\n",
       "    <tr>\n",
       "      <th>14</th>\n",
       "      <td>numeric__compres_12_6_delta_perc</td>\n",
       "      <td>0.053082</td>\n",
       "    </tr>\n",
       "    <tr>\n",
       "      <th>15</th>\n",
       "      <td>categorical__segment_campaigns_kwe_user</td>\n",
       "      <td>0.037802</td>\n",
       "    </tr>\n",
       "    <tr>\n",
       "      <th>16</th>\n",
       "      <td>categorical__segment_campaigns_user</td>\n",
       "      <td>0.036242</td>\n",
       "    </tr>\n",
       "    <tr>\n",
       "      <th>17</th>\n",
       "      <td>categorical__segment_kwe_user</td>\n",
       "      <td>0.066965</td>\n",
       "    </tr>\n",
       "    <tr>\n",
       "      <th>18</th>\n",
       "      <td>categorical__segment_lex_user</td>\n",
       "      <td>0.034886</td>\n",
       "    </tr>\n",
       "    <tr>\n",
       "      <th>19</th>\n",
       "      <td>categorical__segment_no_usage_user</td>\n",
       "      <td>0.043835</td>\n",
       "    </tr>\n",
       "  </tbody>\n",
       "</table>\n",
       "</div>"
      ],
      "text/plain": [
       "                                    Feature  Importance\n",
       "0                        numeric__num_users    0.101759\n",
       "1                   numeric__kwe_10_12_perc    0.046560\n",
       "2                         numeric__base_mrr    0.039707\n",
       "3           numeric__domain_12_6_delta_perc    0.046731\n",
       "4                   numeric__usage_4_6_perc    0.048658\n",
       "5            numeric__total_addons_mrr_perc    0.050964\n",
       "6                     numeric__lex_7_9_perc    0.045576\n",
       "7             numeric__campaigns_10_12_perc    0.046359\n",
       "8             numeric__campaigns_quota85_12    0.045628\n",
       "9                   numeric__num_tickets_12    0.047990\n",
       "10           numeric__usage_12_6_delta_perc    0.049856\n",
       "11              numeric__restool_10_12_perc    0.049455\n",
       "12                    numeric__kwe_4_6_perc    0.051904\n",
       "13                 numeric__domain_4_6_perc    0.056042\n",
       "14         numeric__compres_12_6_delta_perc    0.053082\n",
       "15  categorical__segment_campaigns_kwe_user    0.037802\n",
       "16      categorical__segment_campaigns_user    0.036242\n",
       "17            categorical__segment_kwe_user    0.066965\n",
       "18            categorical__segment_lex_user    0.034886\n",
       "19       categorical__segment_no_usage_user    0.043835"
      ]
     },
     "execution_count": 10,
     "metadata": {},
     "output_type": "execute_result"
    }
   ],
   "source": [
    "feature_importance = xgb_model.named_steps['xgb'].feature_importances_\n",
    "\n",
    "feature_names = xgb_model.named_steps['columntransformer'].get_feature_names_out(input_features=COL_FEATURES)\n",
    "\n",
    "dir(xgb_model.named_steps['xgb'])\n",
    "\n",
    "pd.DataFrame({'Feature': feature_names, 'Importance': feature_importance})"
   ]
  },
  {
   "cell_type": "markdown",
   "metadata": {},
   "source": [
    "ROC curve: higher AUC means better overall accuracy.\n",
    "\n",
    "The dots are cutoffs (between 0-1) that rounds the prediction to either 0 or 1.\n",
    "\n",
    "Higher the cutoff means fewer predictions for 1, hence lower true positive rate. \n",
    "\n",
    "It's a trade off between true positiev rate and false positive rate."
   ]
  },
  {
   "cell_type": "code",
   "execution_count": 69,
   "metadata": {},
   "outputs": [
    {
     "data": {
      "image/png": "[encoded data removed]",
      "text/plain": [
       "<Figure size 1200x600 with 2 Axes>"
      ]
     },
     "metadata": {},
     "output_type": "display_data"
    }
   ],
   "source": [
    "# confusion matrix to visualize the performance of the algorithm.\n",
    "df_test['prediction'] = xgb_model.predict_proba(df_test)[:, 1]\n",
    "# df_test['prediction'] = svc.predict_proba(df_test)[:,1]\n",
    "\n",
    "# Find optimal cutoff (not necessary for the plot)\n",
    "fpr, tpr, thresholds = roc_curve(df_test['churn'], df_test['prediction'])\n",
    "opt_idx = np.argmax(tpr - fpr)\n",
    "opt_cutoff = thresholds[opt_idx]\n",
    "\n",
    "plot_roc_and_precision_recall(df_test['churn'], df_test['prediction'])"
   ]
  },
  {
   "cell_type": "code",
   "execution_count": 11,
   "metadata": {},
   "outputs": [
    {
     "name": "stdout",
     "output_type": "stream",
     "text": [
      "Confusion matrix:\n"
     ]
    },
    {
     "data": {
      "image/png": "[encoded data removed]",
      "text/plain": [
       "<Figure size 640x480 with 2 Axes>"
      ]
     },
     "metadata": {},
     "output_type": "display_data"
    },
    {
     "name": "stdout",
     "output_type": "stream",
     "text": [
      "Cutoff:  0.9\n",
      "Sensitivity: 0.09403669724770643\n",
      "Specificity: 0.9981033665244191\n",
      "\n",
      "Accuracy: 0.843222003929273\n",
      "Precision: 0.9111111111111111\n",
      "Recall: 0.09403669724770643\n",
      "F1 score: 0.1704781704781705\n",
      "\n",
      "Classification report:\n",
      "              precision    recall  f1-score   support\n",
      "\n",
      "           0       0.84      1.00      0.91      2109\n",
      "           1       0.91      0.09      0.17       436\n",
      "\n",
      "    accuracy                           0.84      2545\n",
      "   macro avg       0.88      0.55      0.54      2545\n",
      "weighted avg       0.85      0.84      0.79      2545\n",
      "\n"
     ]
    }
   ],
   "source": [
    "## Confusion matrix\n",
    "\n",
    "# Tweak the cutoff to compare how the positive rates change\n",
    "confusion_matrix_report(df=df_test, actual='churn', predicted='prediction', cutoff=0.9)"
   ]
  }
 ],
 "metadata": {
  "kernelspec": {
   "display_name": "Python 3",
   "language": "python",
   "name": "python3"
  },
  "language_info": {
   "codemirror_mode": {
    "name": "ipython",
    "version": 3
   },
   "file_extension": ".py",
   "mimetype": "text/x-python",
   "name": "python",
   "nbconvert_exporter": "python",
   "pygments_lexer": "ipython3",
   "version": "3.9.13"
  },
  "orig_nbformat": 4
 },
 "nbformat": 4,
 "nbformat_minor": 2
}
